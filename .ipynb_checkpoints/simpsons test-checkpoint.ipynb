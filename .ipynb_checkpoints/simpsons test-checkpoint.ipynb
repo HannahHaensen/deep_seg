{
 "cells": [
  {
   "cell_type": "code",
   "execution_count": 8,
   "metadata": {},
   "outputs": [],
   "source": [
    "import torch\n",
    "import torchvision\n",
    "import torch.nn as nn\n",
    "import torch.optim as optim\n",
    "from torchvision import datasets, transforms\n",
    "import torchvision.models as models\n",
    "from torch.utils.data import DataLoader\n",
    "from torch.utils.data.sampler import SubsetRandomSampler\n",
    "from sklearn.metrics import f1_score\n",
    "import os\n",
    "\n",
    "import matplotlib.pyplot as plt\n",
    "import numpy as np\n",
    "from tqdm import tqdm"
   ]
  },
  {
   "cell_type": "code",
   "execution_count": 9,
   "metadata": {},
   "outputs": [],
   "source": [
    "data_dir = '/Users/hannahschieber/GitHub/deep_seg/data/Simpsons/simpsons_dataset/'\n",
    "num_workers = 1"
   ]
  },
  {
   "cell_type": "code",
   "execution_count": 10,
   "metadata": {},
   "outputs": [],
   "source": [
    "def get_train_and_test_dataloaders(data_dir, test_pct, batch_size):\n",
    "  # first define some transforms \n",
    "    if torch.cuda.is_available():\n",
    "        pin_memory = True\n",
    "        num_workers=1\n",
    "    resize = transforms.Resize((255,255))\n",
    "    to_tensor = transforms.ToTensor()\n",
    "    normalise = transforms.Normalize(mean=[0.485, 0.456, 0.406],\n",
    "                                     std=[0.229, 0.224, 0.225])\n",
    "    horizontal_flip = transforms.RandomHorizontalFlip(p=0.3)\n",
    "    random_crop = transforms.RandomCrop(90)\n",
    "\n",
    "  # now compose these for the train and test datasets\n",
    "    train_transforms = transforms.Compose([resize,\n",
    "                                         horizontal_flip,\n",
    "                                         #random_crop,\n",
    "                                          to_tensor, \n",
    "                                          normalise])\n",
    "  \n",
    "    test_transforms = transforms.Compose([resize,\n",
    "                                        to_tensor, \n",
    "                                        normalise])\n",
    "  # get the dataset\n",
    "    train_dataset = datasets.ImageFolder(data_dir, transform = train_transforms)\n",
    "    test_dataset = datasets.ImageFolder(data_dir, transform = test_transforms)\n",
    "  # get class to idx mapping \n",
    "    class_to_idx = train_dataset.class_to_idx\n",
    "  # invert the class map (i.e. idx to class)\n",
    "    idx_to_class = {v: k for k, v in class_to_idx.items()}\n",
    "  # get number of photos \n",
    "    len_train = len(train_dataset)\n",
    "    indicies = list(range(len_train))\n",
    "    split = int(np.floor(test_pct * len_train))\n",
    "\n",
    "    np.random.shuffle(indicies)\n",
    "\n",
    "    train_idx, test_idx = indicies[split:], indicies[:split]\n",
    "\n",
    "    train_sampler = SubsetRandomSampler(train_idx)\n",
    "    test_sampler = SubsetRandomSampler(test_idx)\n",
    "\n",
    "    train_loader = torch.utils.data.DataLoader(train_dataset, \n",
    "                                             batch_size=batch_size, \n",
    "                                             sampler=train_sampler,\n",
    "                                             num_workers=num_workers, \n",
    "                                             )\n",
    "  \n",
    "    test_loader = torch.utils.data.DataLoader(test_dataset, \n",
    "                                             batch_size=batch_size, \n",
    "                                             sampler=test_sampler,\n",
    "                                             num_workers=num_workers, \n",
    "                                             )\n",
    "\n",
    "    return train_loader, test_loader, class_to_idx, idx_to_class"
   ]
  },
  {
   "cell_type": "code",
   "execution_count": 12,
   "metadata": {},
   "outputs": [
    {
     "ename": "TypeError",
     "evalue": "get_train_and_test_dataloaders() got an unexpected keyword argument 'num_workers'",
     "output_type": "error",
     "traceback": [
      "\u001b[0;31m---------------------------------------------------------------------------\u001b[0m",
      "\u001b[0;31mTypeError\u001b[0m                                 Traceback (most recent call last)",
      "\u001b[0;32m<ipython-input-12-873d474365c7>\u001b[0m in \u001b[0;36m<module>\u001b[0;34m\u001b[0m\n\u001b[0;32m----> 1\u001b[0;31m \u001b[0mtrain_loader\u001b[0m\u001b[0;34m,\u001b[0m \u001b[0mtest_loader\u001b[0m\u001b[0;34m,\u001b[0m \u001b[0mclass_to_idx\u001b[0m\u001b[0;34m,\u001b[0m \u001b[0midx_to_class\u001b[0m \u001b[0;34m=\u001b[0m \u001b[0mget_train_and_test_dataloaders\u001b[0m\u001b[0;34m(\u001b[0m\u001b[0mdata_dir\u001b[0m \u001b[0;34m=\u001b[0m \u001b[0mdata_dir\u001b[0m\u001b[0;34m,\u001b[0m \u001b[0mtest_pct\u001b[0m \u001b[0;34m=\u001b[0m \u001b[0;36m0.2\u001b[0m\u001b[0;34m,\u001b[0m \u001b[0mbatch_size\u001b[0m \u001b[0;34m=\u001b[0m \u001b[0;36m32\u001b[0m\u001b[0;34m,\u001b[0m \u001b[0mnum_workers\u001b[0m\u001b[0;34m=\u001b[0m\u001b[0;36m1\u001b[0m\u001b[0;34m)\u001b[0m\u001b[0;34m\u001b[0m\u001b[0;34m\u001b[0m\u001b[0m\n\u001b[0m",
      "\u001b[0;31mTypeError\u001b[0m: get_train_and_test_dataloaders() got an unexpected keyword argument 'num_workers'"
     ]
    }
   ],
   "source": [
    "train_loader, test_loader, class_to_idx, idx_to_class = get_train_and_test_dataloaders(data_dir = data_dir, test_pct = 0.2, batch_size = 32)"
   ]
  },
  {
   "cell_type": "code",
   "execution_count": null,
   "metadata": {},
   "outputs": [],
   "source": [
    "def imshow(img):\n",
    "    img = img.numpy().transpose((1, 2, 0))\n",
    "    mean = np.array([0.485, 0.456, 0.406])\n",
    "    std = np.array([0.229, 0.224, 0.225])\n",
    "    img = std * img + mean\n",
    "    img = np.clip(img, 0, 1)\n",
    "    plt.imshow(img)\n",
    "# get some random training images\n",
    "dataiter = iter(test_loader)\n",
    "images, labels = dataiter.next()\n",
    "\n",
    "# show images\n",
    "imshow(torchvision.utils.make_grid(images))\n",
    "\n",
    "print(','.join('%5s' % idx_to_class[labels[j].item()] for j in range(10)))"
   ]
  },
  {
   "cell_type": "code",
   "execution_count": null,
   "metadata": {},
   "outputs": [],
   "source": [
    "model = models.resnet18(pretrained=True)"
   ]
  },
  {
   "cell_type": "code",
   "execution_count": null,
   "metadata": {},
   "outputs": [],
   "source": [
    "no_features = model.fc.in_features\n",
    "model.fc = nn.Linear(no_features, 43)"
   ]
  },
  {
   "cell_type": "code",
   "execution_count": null,
   "metadata": {},
   "outputs": [],
   "source": [
    "criterion = nn.CrossEntropyLoss()"
   ]
  },
  {
   "cell_type": "code",
   "execution_count": null,
   "metadata": {},
   "outputs": [],
   "source": [
    "lr = 3.76E-02\n",
    "optimiser = optim.SGD(model.parameters(), lr = lr)"
   ]
  },
  {
   "cell_type": "code",
   "execution_count": null,
   "metadata": {},
   "outputs": [],
   "source": [
    "def fit(model: nn.Module, \n",
    "        criterion, \n",
    "        optimiser, \n",
    "        epochs: int,\n",
    "        lr: float,\n",
    "        train_dataloader: \n",
    "        DataLoader, \n",
    "        test_dataloader: DataLoader, \n",
    "        audit_train: int = None):\n",
    "  \"\"\"\n",
    "  Def to fit model, will automatically use GPU if avliable\n",
    "  \"\"\"\n",
    "  \n",
    "  def evaluate_performance(model: nn.Module, \n",
    "                           test_dataloader: DataLoader, \n",
    "                           test_acc: list, \n",
    "                           test_loss: list):\n",
    "    batch_loss = 0\n",
    "    total_test=0\n",
    "    correct_test=0\n",
    "\n",
    "    with torch.no_grad():\n",
    "\n",
    "        model.eval()\n",
    "\n",
    "        for data in (test_dataloader):\n",
    "            images_test, labels_test = data\n",
    "            if torch.cuda.is_available():\n",
    "              images_test, labels_test = inputs.cuda(), labels.cuda()\n",
    "            outputs_test = model(images_test)\n",
    "            loss_test = criterion(outputs_test, labels_test)\n",
    "            batch_loss += loss_test.item()\n",
    "            _,predictions_test = torch.max(outputs_test, dim=1)\n",
    "            correct_test += torch.sum(predictions_test==labels_test).item()\n",
    "            total_test += labels_test.size(0)\n",
    "\n",
    "        test_acc.append(100 * correct_test/total_test)\n",
    "        test_loss.append(batch_loss/len(test_dataloader))\n",
    "        \n",
    "        print(\"\\nValidation Loss: {:.4f} | Validation Accuracy: {:.4f}\"\n",
    "        .format(np.mean(test_loss),\n",
    "                                    100 * correct_test/total_test))\n",
    "\n",
    "  test_loss = []\n",
    "  test_acc = []\n",
    "  train_loss = []\n",
    "  train_acc = []\n",
    "  total_batches = len(train_loader)\n",
    "  epoch_no = 0\n",
    "\n",
    "  lr_sched = optim.lr_scheduler.OneCycleLR(optimizer = optimiser,\n",
    "                                         max_lr = lr,\n",
    "                                         epochs = epochs, \n",
    "                                         steps_per_epoch = 100,\n",
    "                                         anneal_strategy = \"cos\", \n",
    "                                         cycle_momentum = True, \n",
    "                                         )\n",
    "\n",
    "  if audit_train is None:\n",
    "    audit_train = int(total_batches / 5)\n",
    "\n",
    "  if torch.cuda.is_available():\n",
    "    print(\"Using GPU\")\n",
    "    # move model to GPU\n",
    "    model.cuda()\n",
    "\n",
    "  for epoch in range(epochs):\n",
    "\n",
    "      running_loss = 0.0\n",
    "      correct = 0\n",
    "      total= 0\n",
    "      batch_no = 0\n",
    "\n",
    "      for data in tqdm(train_loader):\n",
    "          inputs, labels = data\n",
    "          if torch.cuda.is_available():\n",
    "            # move features and labels to GPU\n",
    "            inputs, labels = inputs.cuda(), labels.cuda()\n",
    "          # zero the parameter gradients\n",
    "          optimiser.zero_grad()\n",
    "          # forward + backward + optimize\n",
    "          outputs = model(inputs)\n",
    "          loss = criterion(outputs, labels)\n",
    "          loss.backward()\n",
    "          optimiser.step()\n",
    "          running_loss += loss.item()\n",
    "\n",
    "          _,predictions = torch.max(outputs, dim=1)\n",
    "          correct += torch.sum(predictions==labels).item()\n",
    "          total += labels.size(0)\n",
    "\n",
    "          if batch_no % audit_train == 0:\n",
    "              print ('\\nEpoch [{}/{}], Step [{}/{}], Loss: {:.4f}'\n",
    "                    .format(epoch + 1, epochs , batch_no, total_batches, loss.item()))\n",
    "          batch_no += 1\n",
    "      train_acc.append(100 * correct / total)\n",
    "      train_loss.append(running_loss/total_batches)\n",
    "\n",
    "      evaluate_performance(model = model, test_dataloader = test_dataloader, test_acc = test_acc, test_loss = test_loss)"
   ]
  },
  {
   "cell_type": "code",
   "execution_count": null,
   "metadata": {},
   "outputs": [],
   "source": [
    "fit(model = model, criterion = criterion, lr = lr, optimiser = optimiser, epochs = 1, train_dataloader = train_loader, test_dataloader = test_loader, )"
   ]
  },
  {
   "cell_type": "code",
   "execution_count": null,
   "metadata": {},
   "outputs": [],
   "source": [
    "def get_sample_dataloader(data_dir, batch_size):\n",
    "\n",
    "  if torch.cuda.is_available():\n",
    "    pin_memory = True\n",
    "    num_workers=1\n",
    "\n",
    "  # first define some transforms \n",
    "  resize = transforms.Resize((255,255))\n",
    "  to_tensor = transforms.ToTensor()\n",
    "  normalise = transforms.Normalize(mean=[0.485, 0.456, 0.406],\n",
    "                                     std=[0.229, 0.224, 0.225])\n",
    "\n",
    "\n",
    "  \n",
    "  sample_transforms = transforms.Compose([resize,\n",
    "                                        to_tensor, \n",
    "                                        normalise])\n",
    "  # get the dataset\n",
    "  sample_dataset = datasets.ImageFolder(data_dir, transform = sample_transforms)\n",
    "  \n",
    "  sample_loader = torch.utils.data.DataLoader(sample_dataset, \n",
    "                                             batch_size=batch_size\n",
    "                                              )\n",
    "\n",
    "  return sample_loader"
   ]
  },
  {
   "cell_type": "code",
   "execution_count": null,
   "metadata": {},
   "outputs": [],
   "source": [
    "sample_dataloader = get_sample_dataloader('/content/gdrive/My Drive/simpsons_test/', batch_size = 19)"
   ]
  }
 ],
 "metadata": {
  "kernelspec": {
   "display_name": "Python 3",
   "language": "python",
   "name": "python3"
  },
  "language_info": {
   "codemirror_mode": {
    "name": "ipython",
    "version": 3
   },
   "file_extension": ".py",
   "mimetype": "text/x-python",
   "name": "python",
   "nbconvert_exporter": "python",
   "pygments_lexer": "ipython3",
   "version": "3.9.1"
  }
 },
 "nbformat": 4,
 "nbformat_minor": 1
}
